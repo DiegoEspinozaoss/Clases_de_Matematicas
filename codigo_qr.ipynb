{
 "cells": [
  {
   "cell_type": "code",
   "execution_count": 5,
   "id": "d451f5c5",
   "metadata": {},
   "outputs": [],
   "source": [
    "#!pip install qrcode"
   ]
  },
  {
   "cell_type": "code",
   "execution_count": 8,
   "id": "b58ef417",
   "metadata": {},
   "outputs": [],
   "source": [
    "import qrcode\n",
    "import os\n",
    "import glob\n",
    "\n",
    "for archivo in glob.glob(\"*.png\"):\n",
    "    os.remove(archivo)\n",
    "\n",
    "github_url = \"https://github.com/DiegoEspinozaoss/Clases_de_Matematicas/\"\n",
    "\n",
    "qr = qrcode.make(github_url)\n",
    "qr.save(\"github_qr.png\")\n",
    "\n",
    "qr.show()"
   ]
  }
 ],
 "metadata": {
  "kernelspec": {
   "display_name": "Python 3",
   "language": "python",
   "name": "python3"
  },
  "language_info": {
   "codemirror_mode": {
    "name": "ipython",
    "version": 3
   },
   "file_extension": ".py",
   "mimetype": "text/x-python",
   "name": "python",
   "nbconvert_exporter": "python",
   "pygments_lexer": "ipython3",
   "version": "3.9.6"
  }
 },
 "nbformat": 4,
 "nbformat_minor": 5
}
